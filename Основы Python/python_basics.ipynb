{
 "cells": [
  {
   "cell_type": "code",
   "execution_count": 59,
   "metadata": {},
   "outputs": [
    {
     "data": {
      "text/plain": [
       "True"
      ]
     },
     "execution_count": 59,
     "metadata": {},
     "output_type": "execute_result"
    }
   ],
   "source": [
    "long_phrase = 'Насколько проще было бы писать программы, если бы не заказчики'\n",
    "short_phrase = '640Кб должно хватить для любых задач. Билл Гейтс (по легенде)'\n",
    "len(long_phrase) > len(short_phrase)"
   ]
  },
  {
   "cell_type": "code",
   "execution_count": 10,
   "metadata": {},
   "outputs": [
    {
     "name": "stdout",
     "output_type": "stream",
     "text": [
      "Объем файла равен 497.45Mb\n"
     ]
    }
   ],
   "source": [
    "byte=521616098\n",
    "mbyte_is=1024*1024\n",
    "mbyte=round(byte/mbyte_is,2)\n",
    "print(f'Объем файла равен {mbyte}Mb')"
   ]
  },
  {
   "cell_type": "code",
   "execution_count": 67,
   "metadata": {},
   "outputs": [
    {
     "name": "stdout",
     "output_type": "stream",
     "text": [
      "Введите месяц:\n",
      "март\n",
      "Введите число:\n",
      "21\n",
      "овен\n"
     ]
    }
   ],
   "source": [
    "print('Введите месяц:')\n",
    "month=str(input())\n",
    "\n",
    "print('Введите число:')\n",
    "day=int(input())\n",
    "if month=='январь' and day<20: \n",
    "    print('козерог')\n",
    "elif month=='январь' and day>=20: \n",
    "    print('водолей')\n",
    "elif month=='февраль' and day<19: \n",
    "    print('водолей')\n",
    "elif month=='февраль' and day>=19: \n",
    "    print('рыбы')\n",
    "elif month=='март' and day<19: \n",
    "    print('рыбы')\n",
    "elif month=='март' and day>=19: \n",
    "    print('овен') \n",
    "elif month=='апрель' and day<19: \n",
    "    print('овен')\n",
    "elif month=='апрель' and day>=19: \n",
    "    print('телец')   \n",
    "elif month=='май' and day<19: \n",
    "    print('телец')\n",
    "elif month=='май' and day>=19: \n",
    "    print('близнецы')  \n",
    "elif month=='июнь' and day<19: \n",
    "    print('близнецы')\n",
    "elif month=='июнь' and day>=19: \n",
    "    print('рак')  \n",
    "elif month=='июль' and day<19: \n",
    "    print('рак')\n",
    "elif month=='июль' and day>=19: \n",
    "    print('лев')  \n",
    "elif month=='август' and day<19: \n",
    "    print('лев')\n",
    "elif month=='август' and day>=19: \n",
    "    print('дева')  \n",
    "elif month=='сентябрь' and day<19: \n",
    "    print('дева')\n",
    "elif month=='сентябрь' and day>=19: \n",
    "    print('весы') \n",
    "elif month=='октябрь' and day<19: \n",
    "    print('весы')\n",
    "elif month=='октябрь' and day>=19: \n",
    "    print('скорпион') \n",
    "elif month=='ноябрь' and day<19: \n",
    "    print('скорпион')\n",
    "elif month=='ноябрь' and day>=19: \n",
    "    print('стрелец')   \n",
    "elif month=='декабрь' and day<19: \n",
    "    print('стрелец')\n",
    "elif month=='декабрь' and day>=19: \n",
    "    print('козерог')\n",
    "else:\n",
    "    print('Ошибка')\n",
    "    "
   ]
  },
  {
   "cell_type": "code",
   "execution_count": 74,
   "metadata": {},
   "outputs": [
    {
     "name": "stdout",
     "output_type": "stream",
     "text": [
      "Введите заработанную плату в месяц:\n",
      "100000\n",
      "Введите сколько процентов уходит на ипотеку:\n",
      "30\n",
      "Введите сколько процентов уходит на жизнь:\n",
      "50\n",
      "Введите количество премий за год:\n",
      "2\n",
      "На ипотеку было потрачено:360000\n",
      "Было накоплено:340000\n"
     ]
    }
   ],
   "source": [
    "print('Введите заработанную плату в месяц:')\n",
    "salary=int(input())\n",
    "\n",
    "print('Введите сколько процентов уходит на ипотеку:')\n",
    "mortgage=int(input())\n",
    "\n",
    "print('Введите сколько процентов уходит на жизнь:')\n",
    "life=int(input())\n",
    "\n",
    "print('Введите количество премий за год:')\n",
    "bonus=int(input())\n",
    "\n",
    "mort_pay=round(salary*12*(mortgage/100))\n",
    "\n",
    "save=round(salary*12*(1-life/100-mortgage/100)+salary*bonus/2)\n",
    "\n",
    "print(f'На ипотеку было потрачено:{mort_pay}')\n",
    "print(f'Было накоплено:{save}')"
   ]
  },
  {
   "cell_type": "code",
   "execution_count": null,
   "metadata": {},
   "outputs": [],
   "source": []
  },
  {
   "cell_type": "code",
   "execution_count": null,
   "metadata": {},
   "outputs": [],
   "source": []
  },
  {
   "cell_type": "code",
   "execution_count": null,
   "metadata": {},
   "outputs": [],
   "source": []
  },
  {
   "cell_type": "code",
   "execution_count": null,
   "metadata": {},
   "outputs": [],
   "source": []
  },
  {
   "cell_type": "code",
   "execution_count": null,
   "metadata": {},
   "outputs": [],
   "source": []
  },
  {
   "cell_type": "code",
   "execution_count": null,
   "metadata": {},
   "outputs": [],
   "source": []
  },
  {
   "cell_type": "code",
   "execution_count": null,
   "metadata": {},
   "outputs": [],
   "source": []
  },
  {
   "cell_type": "code",
   "execution_count": null,
   "metadata": {},
   "outputs": [],
   "source": []
  },
  {
   "cell_type": "code",
   "execution_count": null,
   "metadata": {},
   "outputs": [],
   "source": []
  },
  {
   "cell_type": "code",
   "execution_count": null,
   "metadata": {},
   "outputs": [],
   "source": []
  },
  {
   "cell_type": "code",
   "execution_count": null,
   "metadata": {},
   "outputs": [],
   "source": []
  },
  {
   "cell_type": "code",
   "execution_count": null,
   "metadata": {},
   "outputs": [],
   "source": []
  },
  {
   "cell_type": "code",
   "execution_count": null,
   "metadata": {},
   "outputs": [],
   "source": []
  },
  {
   "cell_type": "code",
   "execution_count": null,
   "metadata": {},
   "outputs": [],
   "source": []
  },
  {
   "cell_type": "code",
   "execution_count": null,
   "metadata": {},
   "outputs": [],
   "source": []
  },
  {
   "cell_type": "code",
   "execution_count": null,
   "metadata": {},
   "outputs": [],
   "source": []
  }
 ],
 "metadata": {
  "kernelspec": {
   "display_name": "Python 3",
   "language": "python",
   "name": "python3"
  },
  "language_info": {
   "codemirror_mode": {
    "name": "ipython",
    "version": 3
   },
   "file_extension": ".py",
   "mimetype": "text/x-python",
   "name": "python",
   "nbconvert_exporter": "python",
   "pygments_lexer": "ipython3",
   "version": "3.7.6"
  }
 },
 "nbformat": 4,
 "nbformat_minor": 4
}
