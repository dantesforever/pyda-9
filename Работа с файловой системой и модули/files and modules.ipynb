{
 "cells": [
  {
   "cell_type": "markdown",
   "metadata": {},
   "source": [
    "Переведите содержимое файла purchase_log.txt в словарь purchases вида:\n",
    "\n",
    "{'1840e0b9d4': 'Продукты', ...}\n",
    "Для каждого user_id в файле visit_log.csv определите третий столбец с категорией покупки (если покупка была, сам файл visit_log.csv изменять не надо). Запишите в файл funnel.csv визиты из файла visit_log.csv, в которых были покупки с указанием категории.\n",
    "\n",
    "Учтите условия на данные:\n",
    "\n",
    "содержимое purchase_log.txt помещается в оперативную память компьютера\n",
    "содержимое visit_log.csv - нет; используйте только построчную обработку этого файла"
   ]
  },
  {
   "cell_type": "code",
   "execution_count": 130,
   "metadata": {},
   "outputs": [],
   "source": [
    "import json\n",
    "purchases={}\n",
    "i=0\n",
    "with open('purchase_log.txt', 'r', encoding='utf-8') as f:#создание словаря\n",
    "    for line in f:\n",
    "        a=list(json.loads(line.strip()).values())\n",
    "        purchases.update(dict(zip(a[::2], a[1::2])))\n",
    "\n",
    "w = open('funnel.csv', 'w')\n",
    "\n",
    "visit_w_pur=[]\n",
    "i=0\n",
    "with open('visit_log.csv', 'r', encoding='utf-8') as f:#фильтрация, обогащение и запись отфлиьтрованого в файл\n",
    "    content=f.readlines()\n",
    "    for line in content:\n",
    "        user=line.strip(\"'\").split(',')[0]\n",
    "        if user in purchases.keys():\n",
    "            log1=line.strip().split(',')\n",
    "            cat=purchases.get(user)\n",
    "            log1.insert(2,cat)\n",
    "            #print(log1)\n",
    "            w.write(','.join(log1))\n",
    "            w.write(\"\\n\")\n",
    "w.close()\n",
    "\n",
    "    \n",
    "  "
   ]
  }
 ],
 "metadata": {
  "kernelspec": {
   "display_name": "Python 3",
   "language": "python",
   "name": "python3"
  },
  "language_info": {
   "codemirror_mode": {
    "name": "ipython",
    "version": 3
   },
   "file_extension": ".py",
   "mimetype": "text/x-python",
   "name": "python",
   "nbconvert_exporter": "python",
   "pygments_lexer": "ipython3",
   "version": "3.7.6"
  }
 },
 "nbformat": 4,
 "nbformat_minor": 4
}
