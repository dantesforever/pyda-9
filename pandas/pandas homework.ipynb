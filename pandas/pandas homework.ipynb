{
 "cells": [
  {
   "cell_type": "code",
   "execution_count": 3,
   "metadata": {},
   "outputs": [],
   "source": [
    "import pandas as pd"
   ]
  },
  {
   "cell_type": "markdown",
   "metadata": {},
   "source": [
    "Задание 1\n",
    "Скачайте с сайта https://grouplens.org/datasets/movielens/ датасет любого размера. Определите какому фильму было выставлено больше всего оценок 5.0.\n",
    "\n"
   ]
  },
  {
   "cell_type": "code",
   "execution_count": 25,
   "metadata": {},
   "outputs": [
    {
     "data": {
      "text/html": [
       "<div>\n",
       "<style scoped>\n",
       "    .dataframe tbody tr th:only-of-type {\n",
       "        vertical-align: middle;\n",
       "    }\n",
       "\n",
       "    .dataframe tbody tr th {\n",
       "        vertical-align: top;\n",
       "    }\n",
       "\n",
       "    .dataframe thead th {\n",
       "        text-align: right;\n",
       "    }\n",
       "</style>\n",
       "<table border=\"1\" class=\"dataframe\">\n",
       "  <thead>\n",
       "    <tr style=\"text-align: right;\">\n",
       "      <th></th>\n",
       "      <th>movieId</th>\n",
       "      <th>title</th>\n",
       "      <th>genres</th>\n",
       "    </tr>\n",
       "  </thead>\n",
       "  <tbody>\n",
       "    <tr>\n",
       "      <th>277</th>\n",
       "      <td>318</td>\n",
       "      <td>Shawshank Redemption, The (1994)</td>\n",
       "      <td>Crime|Drama</td>\n",
       "    </tr>\n",
       "  </tbody>\n",
       "</table>\n",
       "</div>"
      ],
      "text/plain": [
       "     movieId                             title       genres\n",
       "277      318  Shawshank Redemption, The (1994)  Crime|Drama"
      ]
     },
     "execution_count": 25,
     "metadata": {},
     "output_type": "execute_result"
    }
   ],
   "source": [
    "ratings = pd.read_csv('ratings.csv')\n",
    "\n",
    "ratings = ratings[ratings.rating.eq(5.0)]\n",
    "\n",
    "max_value=ratings_5['movieId'].value_counts().idxmax()\n",
    "\n",
    "movies = pd.read_csv('movies.csv')\n",
    "\n",
    "movies[movies.movieId.eq(max_value)]\n"
   ]
  },
  {
   "cell_type": "markdown",
   "metadata": {},
   "source": [
    "Задание 2\n",
    "По данным файла power.csv посчитайте суммарное потребление стран Прибалтики (Латвия, Литва и Эстония) категорий 4, 12 и 21 за период с 2005 по 2010 года. Не учитывайте в расчетах отрицательные значения quantity.\n",
    "\n"
   ]
  },
  {
   "cell_type": "code",
   "execution_count": 44,
   "metadata": {},
   "outputs": [
    {
     "data": {
      "text/plain": [
       "240580.0"
      ]
     },
     "execution_count": 44,
     "metadata": {},
     "output_type": "execute_result"
    }
   ],
   "source": [
    "import numpy as np\n",
    "power = pd.read_csv('power.csv')\n",
    "power.head(5)\n",
    "np.sort(power['country'].unique())\n",
    "#'Latvia','Estonia','Lithuania'\n",
    "power_2=power[power['country'].isin(['Latvia','Estonia','Lithuania'])]\n",
    "power_3=power_2[power_2['category'].isin(['4','12','21'])]\n",
    "power_4=power_3[ (power_3['year']>=2005) & (power_3['year']<=2010) & (power_3['quantity']>=0)]\n",
    "power_4['quantity'].sum()\n",
    "\n",
    "\n"
   ]
  },
  {
   "cell_type": "markdown",
   "metadata": {},
   "source": [
    "Задание 3\n",
    "Выберите страницу любого сайта с табличными данными. Импортируйте таблицы в pandas dataframe.\n",
    "Примеры страниц (необязательно брать именно эти):\n",
    "https://fortrader.org/quotes\n",
    "https://www.finanz.ru/valyuty/v-realnom-vremeni"
   ]
  },
  {
   "cell_type": "code",
   "execution_count": 52,
   "metadata": {},
   "outputs": [
    {
     "data": {
      "text/plain": [
       "[        Дата*      Золото  Серебро     Платина    Палладий\n",
       " 0  23.05.2020  4 003,7000   392900  1 915,8200  4 575,7900\n",
       " 1  22.05.2020  3 951,2300   392300  1 922,2600  4 647,1700\n",
       " 2  21.05.2020  4 070,1300   406300  1 976,8600  4 809,5900\n",
       " 3  20.05.2020  4 038,7100   398500  1 875,9200  4 633,9500\n",
       " 4  19.05.2020  4 122,3100   407100  1 914,6200  4 505,0000\n",
       " 5  16.05.2020  4 083,1700   382500  1 821,7000  4 295,3400\n",
       " 6  15.05.2020  4 079,7100   369100  1 818,3300  4 302,1800\n",
       " 7  14.05.2020  4 021,3500   368100  1 797,9400  4 341,0800\n",
       " 8  13.05.2020  4 021,6900   365600  1 810,8200  4 403,1000]"
      ]
     },
     "execution_count": 52,
     "metadata": {},
     "output_type": "execute_result"
    }
   ],
   "source": [
    "page_url = 'https://www.cbr.ru/hd_base/metall/metall_base_new/'\n",
    "\n",
    "# Импортируем нужную нам страницу в df\n",
    "# attrs = {'class': 'news_table'} ---> указываем какой именно блок нам нужен\n",
    "# encoding='utf-8' ---> указываем кодировку страниц для корректного отображения кириллицы\n",
    "#<div class=\"table-wrapper\">\n",
    " # <div class=\"table-caption gray\">\n",
    "\n",
    "df = pd.read_html(page_url, attrs = {'class': 'data'}, encoding='utf-8')\n",
    "df"
   ]
  }
 ],
 "metadata": {
  "kernelspec": {
   "display_name": "Python 3",
   "language": "python",
   "name": "python3"
  },
  "language_info": {
   "codemirror_mode": {
    "name": "ipython",
    "version": 3
   },
   "file_extension": ".py",
   "mimetype": "text/x-python",
   "name": "python",
   "nbconvert_exporter": "python",
   "pygments_lexer": "ipython3",
   "version": "3.7.6"
  }
 },
 "nbformat": 4,
 "nbformat_minor": 4
}
