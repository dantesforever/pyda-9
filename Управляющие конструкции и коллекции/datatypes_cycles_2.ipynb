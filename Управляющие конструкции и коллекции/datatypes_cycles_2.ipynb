{
 "cells": [
  {
   "cell_type": "markdown",
   "metadata": {},
   "source": [
    "Задание 1. \n",
    "Дан список с визитами по городам и странам. Напишите код, который возвращает отфильтрованный список geo_logs, содержащий только визиты из России."
   ]
  },
  {
   "cell_type": "code",
   "execution_count": 39,
   "metadata": {},
   "outputs": [
    {
     "name": "stdout",
     "output_type": "stream",
     "text": [
      "[{'visit1': ['Москва', 'Россия']}, {'visit3': ['Владимир', 'Россия']}, {'visit7': ['Тула', 'Россия']}, {'visit8': ['Тула', 'Россия']}, {'visit9': ['Курск', 'Россия']}, {'visit10': ['Архангельск', 'Россия']}]\n"
     ]
    }
   ],
   "source": [
    "geo_logs = [\n",
    "    {'visit1': ['Москва', 'Россия']},\n",
    "    {'visit2': ['Дели', 'Индия']},\n",
    "    {'visit3': ['Владимир', 'Россия']},\n",
    "    {'visit4': ['Лиссабон', 'Португалия']},\n",
    "    {'visit5': ['Париж', 'Франция']},\n",
    "    {'visit6': ['Лиссабон', 'Португалия']},\n",
    "    {'visit7': ['Тула', 'Россия']},\n",
    "    {'visit8': ['Тула', 'Россия']},\n",
    "    {'visit9': ['Курск', 'Россия']},\n",
    "    {'visit10': ['Архангельск', 'Россия']}\n",
    "]\n",
    "\n",
    "country = 'Россия'\n",
    "geo_logs_2 = []\n",
    "for visit in geo_logs:    \n",
    "    for value in visit.values():\n",
    "        if value[1] == country:\n",
    "            geo_logs_2.append(visit)\n",
    "            #print(visit)\n",
    "print(geo_logs_2)"
   ]
  },
  {
   "cell_type": "markdown",
   "metadata": {},
   "source": [
    "Задание 2.\n",
    "Выведите на экран все уникальные гео-ID из значений словаря ids. Т. е. список вида [213, 15, 54, 119, 98, 35]"
   ]
  },
  {
   "cell_type": "code",
   "execution_count": 75,
   "metadata": {},
   "outputs": [
    {
     "name": "stdout",
     "output_type": "stream",
     "text": [
      "[98, 35, 15, 213, 54, 119]\n"
     ]
    }
   ],
   "source": [
    "ids = {'user1': [213, 213, 213, 15, 213], \n",
    "       'user2': [54, 54, 119, 119, 119], \n",
    "       'user3': [213, 98, 98, 35]}\n",
    "\n",
    "ids_list = list(ids.values())\n",
    "ids_set=0\n",
    "ids_set = set()\n",
    "for values in ids_list :\n",
    "    ids_set.update(values)\n",
    "print(list(ids_set))\n",
    "\n",
    "#не понимаю почему отличается порядок вывода"
   ]
  },
  {
   "cell_type": "markdown",
   "metadata": {},
   "source": [
    "Задание 3.\n",
    "Дан список поисковых запросов. Получить распределение количества слов в них. Т. е. поисковых запросов из одного - слова 5%, из двух - 7%, из трех - 3% и т.д."
   ]
  },
  {
   "cell_type": "code",
   "execution_count": 189,
   "metadata": {},
   "outputs": [
    {
     "name": "stdout",
     "output_type": "stream",
     "text": [
      "{3: 0.57, 2: 0.43}\n"
     ]
    }
   ],
   "source": [
    "queries = [\n",
    "    'смотреть сериалы онлайн',\n",
    "    'новости спорта',\n",
    "    'афиша кино',\n",
    "    'курс доллара',\n",
    "    'сериалы этим летом',\n",
    "    'курс по питону',\n",
    "    'сериалы про спорт',\n",
    "]\n",
    "\n",
    "lenght=len(queries)\n",
    "#print(lenght)\n",
    "\n",
    "dict_q={}\n",
    "\n",
    "for element in queries:\n",
    "    key=len(element.split(' '))\n",
    "    dict_q[key]=0\n",
    "    \n",
    "\n",
    "for element in queries:\n",
    "    if dict_q[key]==len(element.split(' ')):\n",
    "        dict_q[key]+=1\n",
    "\n",
    "#print(dict_q)\n",
    "\n",
    "for element in queries:\n",
    "    dict_q[len(element.split(' '))]=dict_q[len(element.split(' '))]+1\n",
    "\n",
    "        \n",
    "#print(dict_q)\n",
    "\n",
    "for value in dict_q:\n",
    "    dict_q[value]=round(dict_q[value]/lenght,2)\n",
    "      \n",
    "print(dict_q)"
   ]
  },
  {
   "cell_type": "markdown",
   "metadata": {},
   "source": [
    "Задание 4.\n",
    "Дана статистика рекламных каналов по объемам продаж. Напишите скрипт, который возвращает название канала с максимальным объемом. \n",
    "Т. е. в данном примере скрипт должен возвращать 'yandex'."
   ]
  },
  {
   "cell_type": "code",
   "execution_count": 191,
   "metadata": {},
   "outputs": [
    {
     "name": "stdout",
     "output_type": "stream",
     "text": [
      "максимальные продажи 120\n",
      "у компании yandex\n"
     ]
    }
   ],
   "source": [
    "stats = {'facebook': 55, 'yandex': 120, 'vk': 115, 'google': 99, 'email': 42, 'ok': 98}\n",
    "list(stats.values())\n",
    "max_v=max(list(stats.values()))\n",
    "\n",
    "print('максимальные продажи', max_v)\n",
    "        \n",
    "for company, sales in stats.items():\n",
    "    if sales == max_v:\n",
    "        print('у компании',company)"
   ]
  },
  {
   "cell_type": "markdown",
   "metadata": {},
   "source": [
    "Задание 5. \n",
    "Напишите код для преобразования произвольного списка вида \n",
    "['2018-01-01', 'yandex', 'cpc', 100] (он может быть любой длины) в словарь\n",
    "\n",
    "{'2018-01-01': {'yandex': {'cpc': 100}}}\n"
   ]
  },
  {
   "cell_type": "code",
   "execution_count": 122,
   "metadata": {},
   "outputs": [
    {
     "name": "stdout",
     "output_type": "stream",
     "text": [
      "{'2018-01-01': {'yandex': {'cpc': 100}}}\n"
     ]
    }
   ],
   "source": [
    "list_1=['2018-01-01', 'yandex', 'cpc', 100]\n",
    "\n",
    "dict_1=list_1[-1]\n",
    "del list_1[-1]\n",
    "\n",
    "for item in list_1[::-1]:\n",
    "    dict_1={item:dict_1}\n",
    "\n",
    "print(dict_1)"
   ]
  }
 ],
 "metadata": {
  "kernelspec": {
   "display_name": "Python 3",
   "language": "python",
   "name": "python3"
  },
  "language_info": {
   "codemirror_mode": {
    "name": "ipython",
    "version": 3
   },
   "file_extension": ".py",
   "mimetype": "text/x-python",
   "name": "python",
   "nbconvert_exporter": "python",
   "pygments_lexer": "ipython3",
   "version": "3.7.6"
  }
 },
 "nbformat": 4,
 "nbformat_minor": 4
}
